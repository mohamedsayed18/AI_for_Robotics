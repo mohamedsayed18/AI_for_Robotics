{
  "nbformat": 4,
  "nbformat_minor": 0,
  "metadata": {
    "colab": {
      "name": "classifier.ipynb",
      "provenance": [],
      "authorship_tag": "ABX9TyMIQEXBB3ot0PNCbf8mpVAC",
      "include_colab_link": true
    },
    "kernelspec": {
      "name": "python3",
      "display_name": "Python 3"
    },
    "widgets": {
      "application/vnd.jupyter.widget-state+json": {
        "74b687dbf19d41388b65edf5033aa446": {
          "model_module": "@jupyter-widgets/controls",
          "model_name": "HBoxModel",
          "state": {
            "_view_name": "HBoxView",
            "_dom_classes": [],
            "_model_name": "HBoxModel",
            "_view_module": "@jupyter-widgets/controls",
            "_model_module_version": "1.5.0",
            "_view_count": null,
            "_view_module_version": "1.5.0",
            "box_style": "",
            "layout": "IPY_MODEL_a8bd60ccfe8a43d9a484860f86185a38",
            "_model_module": "@jupyter-widgets/controls",
            "children": [
              "IPY_MODEL_176db02660ae4fd891be85fae36a2484",
              "IPY_MODEL_4e5f08a54964488bb8e13e8a2ec0ec0d"
            ]
          }
        },
        "a8bd60ccfe8a43d9a484860f86185a38": {
          "model_module": "@jupyter-widgets/base",
          "model_name": "LayoutModel",
          "state": {
            "_view_name": "LayoutView",
            "grid_template_rows": null,
            "right": null,
            "justify_content": null,
            "_view_module": "@jupyter-widgets/base",
            "overflow": null,
            "_model_module_version": "1.2.0",
            "_view_count": null,
            "flex_flow": null,
            "width": null,
            "min_width": null,
            "border": null,
            "align_items": null,
            "bottom": null,
            "_model_module": "@jupyter-widgets/base",
            "top": null,
            "grid_column": null,
            "overflow_y": null,
            "overflow_x": null,
            "grid_auto_flow": null,
            "grid_area": null,
            "grid_template_columns": null,
            "flex": null,
            "_model_name": "LayoutModel",
            "justify_items": null,
            "grid_row": null,
            "max_height": null,
            "align_content": null,
            "visibility": null,
            "align_self": null,
            "height": null,
            "min_height": null,
            "padding": null,
            "grid_auto_rows": null,
            "grid_gap": null,
            "max_width": null,
            "order": null,
            "_view_module_version": "1.2.0",
            "grid_template_areas": null,
            "object_position": null,
            "object_fit": null,
            "grid_auto_columns": null,
            "margin": null,
            "display": null,
            "left": null
          }
        },
        "176db02660ae4fd891be85fae36a2484": {
          "model_module": "@jupyter-widgets/controls",
          "model_name": "IntProgressModel",
          "state": {
            "_view_name": "ProgressView",
            "style": "IPY_MODEL_2d1dfc3cae8f4714832ff673d649b42e",
            "_dom_classes": [],
            "description": "",
            "_model_name": "IntProgressModel",
            "bar_style": "info",
            "max": 1,
            "_view_module": "@jupyter-widgets/controls",
            "_model_module_version": "1.5.0",
            "value": 1,
            "_view_count": null,
            "_view_module_version": "1.5.0",
            "orientation": "horizontal",
            "min": 0,
            "description_tooltip": null,
            "_model_module": "@jupyter-widgets/controls",
            "layout": "IPY_MODEL_f275fcfd126b47d995e4798afc131bdf"
          }
        },
        "4e5f08a54964488bb8e13e8a2ec0ec0d": {
          "model_module": "@jupyter-widgets/controls",
          "model_name": "HTMLModel",
          "state": {
            "_view_name": "HTMLView",
            "style": "IPY_MODEL_efdba1ed24da40f08be8a2e71576e3e3",
            "_dom_classes": [],
            "description": "",
            "_model_name": "HTMLModel",
            "placeholder": "​",
            "_view_module": "@jupyter-widgets/controls",
            "_model_module_version": "1.5.0",
            "value": " 170500096/? [00:20&lt;00:00, 64421712.52it/s]",
            "_view_count": null,
            "_view_module_version": "1.5.0",
            "description_tooltip": null,
            "_model_module": "@jupyter-widgets/controls",
            "layout": "IPY_MODEL_1a96dbd76864493b99f6049b12d6f1c8"
          }
        },
        "2d1dfc3cae8f4714832ff673d649b42e": {
          "model_module": "@jupyter-widgets/controls",
          "model_name": "ProgressStyleModel",
          "state": {
            "_view_name": "StyleView",
            "_model_name": "ProgressStyleModel",
            "description_width": "initial",
            "_view_module": "@jupyter-widgets/base",
            "_model_module_version": "1.5.0",
            "_view_count": null,
            "_view_module_version": "1.2.0",
            "bar_color": null,
            "_model_module": "@jupyter-widgets/controls"
          }
        },
        "f275fcfd126b47d995e4798afc131bdf": {
          "model_module": "@jupyter-widgets/base",
          "model_name": "LayoutModel",
          "state": {
            "_view_name": "LayoutView",
            "grid_template_rows": null,
            "right": null,
            "justify_content": null,
            "_view_module": "@jupyter-widgets/base",
            "overflow": null,
            "_model_module_version": "1.2.0",
            "_view_count": null,
            "flex_flow": null,
            "width": null,
            "min_width": null,
            "border": null,
            "align_items": null,
            "bottom": null,
            "_model_module": "@jupyter-widgets/base",
            "top": null,
            "grid_column": null,
            "overflow_y": null,
            "overflow_x": null,
            "grid_auto_flow": null,
            "grid_area": null,
            "grid_template_columns": null,
            "flex": null,
            "_model_name": "LayoutModel",
            "justify_items": null,
            "grid_row": null,
            "max_height": null,
            "align_content": null,
            "visibility": null,
            "align_self": null,
            "height": null,
            "min_height": null,
            "padding": null,
            "grid_auto_rows": null,
            "grid_gap": null,
            "max_width": null,
            "order": null,
            "_view_module_version": "1.2.0",
            "grid_template_areas": null,
            "object_position": null,
            "object_fit": null,
            "grid_auto_columns": null,
            "margin": null,
            "display": null,
            "left": null
          }
        },
        "efdba1ed24da40f08be8a2e71576e3e3": {
          "model_module": "@jupyter-widgets/controls",
          "model_name": "DescriptionStyleModel",
          "state": {
            "_view_name": "StyleView",
            "_model_name": "DescriptionStyleModel",
            "description_width": "",
            "_view_module": "@jupyter-widgets/base",
            "_model_module_version": "1.5.0",
            "_view_count": null,
            "_view_module_version": "1.2.0",
            "_model_module": "@jupyter-widgets/controls"
          }
        },
        "1a96dbd76864493b99f6049b12d6f1c8": {
          "model_module": "@jupyter-widgets/base",
          "model_name": "LayoutModel",
          "state": {
            "_view_name": "LayoutView",
            "grid_template_rows": null,
            "right": null,
            "justify_content": null,
            "_view_module": "@jupyter-widgets/base",
            "overflow": null,
            "_model_module_version": "1.2.0",
            "_view_count": null,
            "flex_flow": null,
            "width": null,
            "min_width": null,
            "border": null,
            "align_items": null,
            "bottom": null,
            "_model_module": "@jupyter-widgets/base",
            "top": null,
            "grid_column": null,
            "overflow_y": null,
            "overflow_x": null,
            "grid_auto_flow": null,
            "grid_area": null,
            "grid_template_columns": null,
            "flex": null,
            "_model_name": "LayoutModel",
            "justify_items": null,
            "grid_row": null,
            "max_height": null,
            "align_content": null,
            "visibility": null,
            "align_self": null,
            "height": null,
            "min_height": null,
            "padding": null,
            "grid_auto_rows": null,
            "grid_gap": null,
            "max_width": null,
            "order": null,
            "_view_module_version": "1.2.0",
            "grid_template_areas": null,
            "object_position": null,
            "object_fit": null,
            "grid_auto_columns": null,
            "margin": null,
            "display": null,
            "left": null
          }
        }
      }
    }
  },
  "cells": [
    {
      "cell_type": "markdown",
      "metadata": {
        "id": "view-in-github",
        "colab_type": "text"
      },
      "source": [
        "<a href=\"https://colab.research.google.com/github/mohamedsayed18/AI_for_Robotics/blob/master/classifier.ipynb\" target=\"_parent\"><img src=\"https://colab.research.google.com/assets/colab-badge.svg\" alt=\"Open In Colab\"/></a>"
      ]
    },
    {
      "cell_type": "code",
      "metadata": {
        "id": "0MnZKxXvRoLF",
        "colab_type": "code",
        "colab": {}
      },
      "source": [
        "import torchvision.models as models\n",
        "import torch.nn as nn\n",
        "from torchsummary import summary\n",
        "from torch.autograd import Variable\n",
        "import torch.optim as optim\n",
        "\n",
        "import torchvision\n",
        "\n",
        "import numpy as np\n",
        "import torch\n",
        "from PIL import Image\n",
        "from torchvision import transforms\n",
        "from numpy import loadtxt\n",
        "import os\n",
        "import random\n",
        "import time"
      ],
      "execution_count": 0,
      "outputs": []
    },
    {
      "cell_type": "code",
      "metadata": {
        "id": "A0oTFjqX6p9a",
        "colab_type": "code",
        "colab": {
          "base_uri": "https://localhost:8080/",
          "height": 84,
          "referenced_widgets": [
            "74b687dbf19d41388b65edf5033aa446",
            "a8bd60ccfe8a43d9a484860f86185a38",
            "176db02660ae4fd891be85fae36a2484",
            "4e5f08a54964488bb8e13e8a2ec0ec0d",
            "2d1dfc3cae8f4714832ff673d649b42e",
            "f275fcfd126b47d995e4798afc131bdf",
            "efdba1ed24da40f08be8a2e71576e3e3",
            "1a96dbd76864493b99f6049b12d6f1c8"
          ]
        },
        "outputId": "1bfc4c28-637e-489e-ef9a-dd90a71a2ed6"
      },
      "source": [
        "transform = transforms.Compose(\n",
        "    [transforms.ToTensor(),\n",
        "     transforms.Normalize((0.5, 0.5, 0.5), (0.5, 0.5, 0.5))])\n",
        "\n",
        "trainset = torchvision.datasets.CIFAR10(root='./data', train=True,\n",
        "                                        download=True, transform=transform)\n",
        "trainloader = torch.utils.data.DataLoader(trainset, batch_size=4,\n",
        "                                          shuffle=True, num_workers=2)"
      ],
      "execution_count": 5,
      "outputs": [
        {
          "output_type": "stream",
          "text": [
            "Downloading https://www.cs.toronto.edu/~kriz/cifar-10-python.tar.gz to ./data/cifar-10-python.tar.gz\n"
          ],
          "name": "stdout"
        },
        {
          "output_type": "display_data",
          "data": {
            "application/vnd.jupyter.widget-view+json": {
              "model_id": "74b687dbf19d41388b65edf5033aa446",
              "version_minor": 0,
              "version_major": 2
            },
            "text/plain": [
              "HBox(children=(IntProgress(value=1, bar_style='info', max=1), HTML(value='')))"
            ]
          },
          "metadata": {
            "tags": []
          }
        },
        {
          "output_type": "stream",
          "text": [
            "Extracting ./data/cifar-10-python.tar.gz to ./data\n"
          ],
          "name": "stdout"
        }
      ]
    },
    {
      "cell_type": "code",
      "metadata": {
        "id": "K-jDJDFO7UQh",
        "colab_type": "code",
        "colab": {
          "base_uri": "https://localhost:8080/",
          "height": 1000
        },
        "outputId": "18128acf-e4aa-47ff-b271-d75776eb803f"
      },
      "source": [
        "for data in trainloader:\n",
        "    inputs, label = data\n",
        "    print(inputs, inputs.shape)\n",
        "    print(label, label.shape)\n",
        "    break"
      ],
      "execution_count": 10,
      "outputs": [
        {
          "output_type": "stream",
          "text": [
            "tensor([[[[-0.6314, -0.6863, -0.7098,  ..., -0.7647, -0.7490, -0.7255],\n",
            "          [-0.5765, -0.6314, -0.6549,  ..., -0.7176, -0.7020, -0.6706],\n",
            "          [-0.5059, -0.5529, -0.6078,  ..., -0.6314, -0.6000, -0.5608],\n",
            "          ...,\n",
            "          [-0.7176, -0.7961, -0.8039,  ..., -0.8353, -0.8275, -0.8353],\n",
            "          [-0.8196, -0.8275, -0.8196,  ..., -0.8510, -0.8353, -0.8353],\n",
            "          [-0.8431, -0.8431, -0.8431,  ..., -0.8745, -0.8588, -0.8510]],\n",
            "\n",
            "         [[-0.1843, -0.2471, -0.3020,  ..., -0.3569, -0.3412, -0.3176],\n",
            "          [-0.1294, -0.1922, -0.2549,  ..., -0.3098, -0.2941, -0.2627],\n",
            "          [-0.0745, -0.1294, -0.1922,  ..., -0.2235, -0.1922, -0.1529],\n",
            "          ...,\n",
            "          [-0.3020, -0.3647, -0.4118,  ..., -0.4980, -0.4824, -0.4510],\n",
            "          [-0.3882, -0.4275, -0.4667,  ..., -0.5216, -0.5059, -0.4902],\n",
            "          [-0.4118, -0.4510, -0.4824,  ..., -0.5451, -0.5294, -0.5216]],\n",
            "\n",
            "         [[ 0.1059,  0.0431,  0.0039,  ...,  0.0039,  0.0275,  0.0510],\n",
            "          [ 0.1608,  0.0980,  0.0510,  ...,  0.0510,  0.0745,  0.0980],\n",
            "          [ 0.2314,  0.1765,  0.1137,  ...,  0.1059,  0.1373,  0.1843],\n",
            "          ...,\n",
            "          [-0.0745, -0.1294, -0.1686,  ..., -0.2235, -0.2078, -0.1765],\n",
            "          [-0.1373, -0.1608, -0.2000,  ..., -0.2314, -0.2157, -0.2000],\n",
            "          [-0.1529, -0.1843, -0.2157,  ..., -0.2471, -0.2314, -0.2235]]],\n",
            "\n",
            "\n",
            "        [[[ 0.9529,  0.9216,  0.9294,  ...,  0.7961,  0.9294,  0.9294],\n",
            "          [ 0.9294,  0.9059,  0.9137,  ...,  0.7882,  0.9059,  0.9137],\n",
            "          [ 0.9373,  0.9137,  0.9137,  ...,  0.8510,  0.9059,  0.9294],\n",
            "          ...,\n",
            "          [-0.1529, -0.8039, -0.5373,  ...,  0.4824,  0.5843,  0.6078],\n",
            "          [-0.2392, -0.7882, -0.2000,  ...,  0.3176,  0.4353,  0.5451],\n",
            "          [-0.0902, -0.6706, -0.2784,  ...,  0.4196,  0.3725,  0.4431]],\n",
            "\n",
            "         [[ 0.9765,  0.9529,  0.9529,  ...,  0.8431,  0.9529,  0.9216],\n",
            "          [ 0.9529,  0.9294,  0.9373,  ...,  0.8431,  0.9294,  0.9137],\n",
            "          [ 0.9608,  0.9373,  0.9373,  ...,  0.9137,  0.9294,  0.9294],\n",
            "          ...,\n",
            "          [-0.0745, -0.6471, -0.4431,  ...,  0.4353,  0.5373,  0.5608],\n",
            "          [-0.1686, -0.6392, -0.0980,  ...,  0.2627,  0.3804,  0.4902],\n",
            "          [-0.0196, -0.5137, -0.1608,  ...,  0.3647,  0.3176,  0.3804]],\n",
            "\n",
            "         [[ 1.0000,  1.0000,  1.0000,  ...,  0.8980,  1.0000,  1.0000],\n",
            "          [ 1.0000,  0.9922,  1.0000,  ...,  0.8902,  0.9765,  0.9843],\n",
            "          [ 1.0000,  1.0000,  1.0000,  ...,  0.9608,  0.9765,  1.0000],\n",
            "          ...,\n",
            "          [-0.0902, -0.5686, -0.3882,  ...,  0.3647,  0.4667,  0.4902],\n",
            "          [-0.1843, -0.5608, -0.1137,  ...,  0.1922,  0.3255,  0.4510],\n",
            "          [ 0.0039, -0.4196, -0.2078,  ...,  0.2863,  0.2627,  0.3647]]],\n",
            "\n",
            "\n",
            "        [[[ 0.3412,  0.2784,  0.2549,  ...,  0.1137,  0.2627,  0.4902],\n",
            "          [ 0.3176,  0.2000,  0.2863,  ..., -0.0667, -0.0980,  0.3490],\n",
            "          [ 0.3490,  0.2941,  0.3490,  ...,  0.1294,  0.0745,  0.4039],\n",
            "          ...,\n",
            "          [ 0.3255,  0.3725,  0.3255,  ...,  0.0588,  0.0118, -0.0275],\n",
            "          [ 0.3569,  0.3333,  0.3020,  ..., -0.0039, -0.0745, -0.1451],\n",
            "          [ 0.3647,  0.3490,  0.3490,  ..., -0.0980, -0.0588, -0.1451]],\n",
            "\n",
            "         [[ 0.4510,  0.4196,  0.4039,  ...,  0.1373,  0.2549,  0.4353],\n",
            "          [ 0.4353,  0.3176,  0.4196,  ..., -0.0824, -0.1059,  0.2941],\n",
            "          [ 0.4510,  0.3882,  0.4431,  ...,  0.0824,  0.0196,  0.3098],\n",
            "          ...,\n",
            "          [ 0.2314,  0.2784,  0.2314,  ..., -0.0118, -0.0275, -0.0588],\n",
            "          [ 0.2627,  0.2392,  0.2078,  ..., -0.0824, -0.1137, -0.1765],\n",
            "          [ 0.2706,  0.2471,  0.2392,  ..., -0.1451, -0.1059, -0.2000]],\n",
            "\n",
            "         [[ 0.4510,  0.4039,  0.3725,  ...,  0.1216,  0.2235,  0.3255],\n",
            "          [ 0.4431,  0.3333,  0.4196,  ..., -0.0745, -0.1294,  0.1922],\n",
            "          [ 0.4353,  0.3961,  0.4667,  ...,  0.0353, -0.0118,  0.2235],\n",
            "          ...,\n",
            "          [ 0.0431,  0.0902,  0.0431,  ..., -0.1373, -0.1529, -0.1529],\n",
            "          [ 0.0745,  0.0510,  0.0118,  ..., -0.1922, -0.2235, -0.2627],\n",
            "          [ 0.0980,  0.0588,  0.0353,  ..., -0.2549, -0.2157, -0.2706]]],\n",
            "\n",
            "\n",
            "        [[[ 0.4980,  0.4980,  0.5686,  ...,  0.4353,  0.1529, -0.4431],\n",
            "          [ 0.5373,  0.5137,  0.6000,  ...,  0.0902, -0.0275, -0.3098],\n",
            "          [ 0.5373,  0.4902,  0.5216,  ..., -0.4588, -0.4667, -0.3882],\n",
            "          ...,\n",
            "          [ 0.3725,  0.3882,  0.3882,  ...,  0.5686,  0.3412,  0.6471],\n",
            "          [ 0.3804,  0.4039,  0.3176,  ...,  0.3725,  0.3804,  0.7176],\n",
            "          [ 0.3647,  0.3412,  0.2314,  ...,  0.3569,  0.6157,  0.8196]],\n",
            "\n",
            "         [[ 0.6549,  0.5843,  0.5843,  ...,  0.3961,  0.1294, -0.4902],\n",
            "          [ 0.6941,  0.6000,  0.6000,  ..., -0.0196, -0.1451, -0.4353],\n",
            "          [ 0.7020,  0.5686,  0.5059,  ..., -0.6471, -0.6706, -0.6000],\n",
            "          ...,\n",
            "          [ 0.6314,  0.5843,  0.5216,  ...,  0.4431,  0.2157,  0.5529],\n",
            "          [ 0.6314,  0.5843,  0.4196,  ...,  0.2392,  0.2863,  0.6392],\n",
            "          [ 0.5608,  0.5059,  0.3569,  ...,  0.2314,  0.5294,  0.7412]],\n",
            "\n",
            "         [[ 0.7882,  0.6863,  0.6471,  ...,  0.3569,  0.0745, -0.5373],\n",
            "          [ 0.8196,  0.6863,  0.6471,  ..., -0.0824, -0.2235, -0.5373],\n",
            "          [ 0.8118,  0.6314,  0.5216,  ..., -0.7412, -0.7882, -0.7412],\n",
            "          ...,\n",
            "          [ 0.7333,  0.6549,  0.5765,  ...,  0.2863,  0.0510,  0.4667],\n",
            "          [ 0.7255,  0.6471,  0.4588,  ...,  0.1216,  0.1608,  0.6000],\n",
            "          [ 0.6627,  0.5686,  0.3882,  ...,  0.1216,  0.4667,  0.7333]]]]) torch.Size([4, 3, 32, 32])\n",
            "tensor([0, 7, 7, 6]) torch.Size([4])\n"
          ],
          "name": "stdout"
        }
      ]
    },
    {
      "cell_type": "code",
      "metadata": {
        "id": "hHJMKbxMCdcT",
        "colab_type": "code",
        "colab": {}
      },
      "source": [
        "# Build new Network\n",
        "class MyNetwork(nn.Module):\n",
        "    def __init__(self):\n",
        "        super(MyNetwork, self).__init__()\n",
        "        self.l1= nn.Linear(14, 7)\n",
        "        self.l2= nn.Linear(7, 3)\n",
        "        self.sig = nn.Sigmoid()\n",
        "        self.tan = nn.Tanh()\n",
        "        self.soft = nn.Softmax()\n",
        "    \n",
        "    def forward(self, x):\n",
        "        #x = x.view(x.shape[0], -1)\n",
        "        x = self.sig(self.l1(x))\n",
        "        x = self.soft(self.l2(x))\n",
        "        return x"
      ],
      "execution_count": 0,
      "outputs": []
    },
    {
      "cell_type": "code",
      "metadata": {
        "id": "95Ld_u9ETNcn",
        "colab_type": "code",
        "outputId": "888fa3a7-96fa-40aa-860c-0b8d28cf627e",
        "colab": {
          "base_uri": "https://localhost:8080/",
          "height": 89
        }
      },
      "source": [
        "# working crossentropy\n",
        "mynet = MyNetwork()\n",
        "\n",
        "x = torch.rand(1,14)\n",
        "\n",
        "out = mynet(x)\n",
        "print(out.shape)\n",
        "we = torch.tensor([1])\n",
        "\n",
        "\n",
        "criterion = nn.CrossEntropyLoss()\n",
        "loss = criterion(out, we)"
      ],
      "execution_count": 15,
      "outputs": [
        {
          "output_type": "stream",
          "text": [
            "torch.Size([1, 3])\n"
          ],
          "name": "stdout"
        },
        {
          "output_type": "stream",
          "text": [
            "/usr/local/lib/python3.6/dist-packages/ipykernel_launcher.py:13: UserWarning: Implicit dimension choice for softmax has been deprecated. Change the call to include dim=X as an argument.\n",
            "  del sys.path[0]\n"
          ],
          "name": "stderr"
        }
      ]
    },
    {
      "cell_type": "code",
      "metadata": {
        "id": "9LxqiZa9Dk0k",
        "colab_type": "code",
        "colab": {}
      },
      "source": [
        "def train(data_set):\n",
        "    criterion = nn.CrossEntropyLoss()   # cross entropy\n",
        "    optimizer = optim.SGD(net.parameters(), lr=0.001, momentum=0.9)     # optimizer\n",
        "    for i in data_set:\n",
        "        inputs, labels = data\n",
        "        optimizer.zero_grad()\n",
        "        outputs = net(inputs)\n",
        "        loss = criterion(outputs, labels)\n",
        "        loss.backward()\n",
        "        optimizer.step()\n",
        "        print(data)"
      ],
      "execution_count": 0,
      "outputs": []
    },
    {
      "cell_type": "code",
      "metadata": {
        "id": "X1ns1pyRm1yZ",
        "colab_type": "code",
        "outputId": "3501e6f0-3d7f-432f-a3e7-6115ed155baf",
        "colab": {
          "base_uri": "https://localhost:8080/",
          "height": 34
        }
      },
      "source": [
        "input = torch.randn(14)\n",
        "target = torch.empty(3, dtype=torch.long).random_(5)\n",
        "print(input.shape, target.shape)\n",
        "output = loss(input, target)"
      ],
      "execution_count": 0,
      "outputs": [
        {
          "output_type": "stream",
          "text": [
            "torch.Size([3, 5]) torch.Size([3])\n"
          ],
          "name": "stdout"
        }
      ]
    },
    {
      "cell_type": "code",
      "metadata": {
        "id": "kTAi-qwK34ap",
        "colab_type": "code",
        "colab": {}
      },
      "source": [
        "import csv\n",
        "\n",
        "with open('employee_file.csv', mode='w') as employee_file:\n",
        "    employee_writer = csv.writer(employee_file, delimiter=',', quotechar='\"', quoting=csv.QUOTE_MINIMAL)\n",
        "\n",
        "    employee_writer.writerow(['John Smith', 'Accounting', 'November'])\n",
        "    employee_writer.writerow(['Erica Meyers', 'IT', 'March'])\n"
      ],
      "execution_count": 0,
      "outputs": []
    },
    {
      "cell_type": "markdown",
      "metadata": {
        "id": "RAvR09eQRsRU",
        "colab_type": "text"
      },
      "source": [
        "### References\n",
        "[Your First Deep Learning Project in Python with Keras Step-By-Step](https://machinelearningmastery.com/tutorial-first-neural-network-python-keras/)\n",
        "cross validation\n",
        "https://discuss.pytorch.org/t/usage-of-cross-entropy-loss/14841/2"
      ]
    }
  ]
}